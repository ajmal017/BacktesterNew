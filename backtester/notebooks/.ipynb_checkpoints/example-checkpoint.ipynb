{
 "cells": [
  {
   "cell_type": "markdown",
   "metadata": {},
   "source": [
    "# Example Strategy/Backtest"
   ]
  },
  {
   "cell_type": "markdown",
   "metadata": {},
   "source": [
    "#### Imports"
   ]
  },
  {
   "cell_type": "code",
   "execution_count": null,
   "metadata": {
    "collapsed": false
   },
   "outputs": [],
   "source": [
    "%matplotlib inline\n",
    "import os,sys,inspect\n",
    "currentdir = os.path.dirname(os.path.abspath(inspect.getfile(inspect.currentframe())))\n",
    "parentdir = os.path.dirname(currentdir)\n",
    "sys.path.insert(0, parentdir)\n",
    "# print os.getcwd()\n",
    "import tabulate\n",
    "import pandas as pd\n",
    "import numpy as np\n",
    "import datetime as dt\n",
    "import matplotlib.pyplot as plt\n",
    "import analytics.tears as tears\n",
    "from IPython.display import display\n",
    "from Queue import Queue\n",
    "from trading.stock import Stock\n",
    "from stock_backtest.data_handler import StockBacktestDataHandler\n",
    "from stock_backtest.execution_handler import StockBacktestExecutionHandler\n",
    "from stock_backtest.backtest import StockBacktest\n",
    "from strategies.buy_strategy import BuyStrategy\n",
    "import analytics.plotting as plot\n",
    "from analytics.plotting import plot_holdings"
   ]
  },
  {
   "cell_type": "markdown",
   "metadata": {},
   "source": [
    "## Run the backtest "
   ]
  },
  {
   "cell_type": "code",
   "execution_count": null,
   "metadata": {
    "collapsed": false
   },
   "outputs": [],
   "source": [
    "# events = Queue()\n",
    "# products = [Stock('MSFT'), Stock('ORCL')]\n",
    "# symbols = [product.symbol for product in products]\n",
    "# start_date = dt.datetime(year=2012, month=1, day=1)\n",
    "# end_date = dt.datetime(year=2016, month=1, day=10)\n",
    "# data = StockBacktestDataHandler(events, symbols, start_date, end_date)\n",
    "# execution = StockBacktestExecutionHandler(events)\n",
    "# strategy = BuyStrategy(events, data, products, initial_cash=100000)\n",
    "# backtest = StockBacktest(events, strategy, data, execution, start_date, end_date)\n",
    "# backtest.run()\n",
    "import numpy as np\n",
    "import pandas as pd\n",
    "from numpy import pi\n",
    "from bokeh.client import push_session\n",
    "from bokeh.driving import cosine\n",
    "from bokeh.plotting import figure, curdoc\n",
    "\n",
    "p = figure(x_range=(0, 100), y_range=(0, 100), toolbar_location=None)\n",
    "p.border_fill_color = 'black'\n",
    "p.background_fill_color = 'black'\n",
    "p.outline_line_color = None\n",
    "p.grid.grid_line_color = None\n",
    "# x = pd.date_range(pd.datetime.today(), periods=100).tolist() #np.linspace(0, 4*pi, 80)\n",
    "x = np.linspace(0, 100, 100)\n",
    "y = np.linspace(0, 500, 100) \n",
    "\n",
    "r = p.text(x=[], y=[], text=[], text_color=[], text_font_size=\"20pt\",\n",
    "           text_baseline=\"middle\", text_align=\"center\")\n",
    "i = 0\n",
    "ds = r.data_source\n",
    "\n",
    "# # open a session to keep our local document in sync with server\n",
    "session = push_session(curdoc())\n",
    "def update(step):\n",
    "    print 'up'\n",
    "    global i\n",
    "    ds.data['x'].append(x[i])\n",
    "    ds.data['y'].append(np.random.random()*70+15)\n",
    "    ds.data['text_color'].append(RdYlBu3[i%3])\n",
    "    ds.data['text'].append(str(i))\n",
    "    ds.trigger('data', ds.data, ds.data)\n",
    "    i += 1\n",
    "curdoc().add_periodic_callback(update, 500)\n",
    "session.show() # open the document in a browser\n",
    "session.loop_until_closed() # run forever"
   ]
  },
  {
   "cell_type": "code",
   "execution_count": null,
   "metadata": {
    "collapsed": false
   },
   "outputs": [],
   "source": [
    "returns_tear = tears.create_returns_tear_sheet(strategy.returns_series)"
   ]
  },
  {
   "cell_type": "code",
   "execution_count": null,
   "metadata": {
    "collapsed": false
   },
   "outputs": [],
   "source": [
    "transactions_tear = tears.create_txn_tear_sheet(strategy.returns_series, strategy.positions_series, strategy.transactions_series)"
   ]
  },
  {
   "cell_type": "code",
   "execution_count": null,
   "metadata": {
    "collapsed": false
   },
   "outputs": [],
   "source": [
    "round_trips_tear = tears.create_round_trip_tear_sheet(strategy.positions_series, strategy.transactions_series)"
   ]
  },
  {
   "cell_type": "code",
   "execution_count": null,
   "metadata": {
    "collapsed": true
   },
   "outputs": [],
   "source": []
  }
 ],
 "metadata": {
  "kernelspec": {
   "display_name": "Python 2",
   "language": "python",
   "name": "python2"
  },
  "language_info": {
   "codemirror_mode": {
    "name": "ipython",
    "version": 2
   },
   "file_extension": ".py",
   "mimetype": "text/x-python",
   "name": "python",
   "nbconvert_exporter": "python",
   "pygments_lexer": "ipython2",
   "version": "2.7.6"
  }
 },
 "nbformat": 4,
 "nbformat_minor": 0
}
